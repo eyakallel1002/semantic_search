{
 "cells": [
  {
   "cell_type": "code",
   "execution_count": null,
   "metadata": {
    "colab": {
     "base_uri": "https://localhost:8080/",
     "height": 844
    },
    "id": "Xfr9SSN2ah0d",
    "outputId": "95281ce2-688c-4818-e562-2768e14aa49a"
   },
   "outputs": [],
   "source": [
    "!pip install datasets==3.6.0"
   ]
  },
  {
   "cell_type": "code",
   "execution_count": null,
   "metadata": {
    "id": "fb4fbh1VYYih"
   },
   "outputs": [],
   "source": [
    "from datasets import load_dataset\n"
   ]
  },
  {
   "cell_type": "code",
   "execution_count": null,
   "metadata": {
    "colab": {
     "base_uri": "https://localhost:8080/"
    },
    "id": "mZoh4DyIYd9G",
    "outputId": "8cf73e36-847c-48a3-c98e-0aced2d5c7e4"
   },
   "outputs": [],
   "source": [
    "dataset = load_dataset('quora-competitions/quora', split='train[240000:290000]')"
   ]
  },
  {
   "cell_type": "code",
   "execution_count": null,
   "metadata": {
    "colab": {
     "base_uri": "https://localhost:8080/"
    },
    "id": "BJz2KsfcYuJr",
    "outputId": "1b94ad40-b181-46a3-c7b8-9929947e85d9"
   },
   "outputs": [],
   "source": [
    "dataset[:5]"
   ]
  },
  {
   "cell_type": "code",
   "execution_count": null,
   "metadata": {
    "colab": {
     "base_uri": "https://localhost:8080/"
    },
    "id": "kP0QJAvxa0Hk",
    "outputId": "eb3dae9d-b68e-44c1-9640-0f8d1ba1e1b0"
   },
   "outputs": [],
   "source": [
    "questions = []\n",
    "for record in dataset['questions']:\n",
    "  questions.extend( record['text'])\n",
    "question = list(set(questions))\n",
    "print('\\n'.join(questions[:10]))\n",
    "print('-' * 50)\n",
    "print(f'Number of questions: {len(questions)}')\n"
   ]
  },
  {
   "cell_type": "code",
   "execution_count": null,
   "metadata": {
    "id": "nb4-gI7FmExy"
   },
   "outputs": [],
   "source": [
    "import torch"
   ]
  },
  {
   "cell_type": "code",
   "execution_count": null,
   "metadata": {
    "id": "J-2C5qctlaeE"
   },
   "outputs": [],
   "source": [
    "device = 'cuda' if torch.cuda.is_available() else 'cpu'\n",
    "if device != 'cuda' :\n",
    "  print('sorry no cuda')"
   ]
  },
  {
   "cell_type": "code",
   "execution_count": null,
   "metadata": {
    "id": "4VasnVCAmS3i"
   },
   "outputs": [],
   "source": [
    "from sentence_transformers import SentenceTransformer"
   ]
  },
  {
   "cell_type": "code",
   "execution_count": null,
   "metadata": {
    "id": "XkOI6f34mDbZ"
   },
   "outputs": [],
   "source": [
    "model = SentenceTransformer('all-MiniLM-L6-v2', device=device)"
   ]
  },
  {
   "cell_type": "code",
   "execution_count": null,
   "metadata": {
    "colab": {
     "base_uri": "https://localhost:8080/"
    },
    "id": "xfX-lrV3mf1Y",
    "outputId": "07aa3a13-8dd0-4739-f1f1-d1a645b00b96"
   },
   "outputs": [],
   "source": [
    "query = 'Which city is the more populated in the world?'\n",
    "xq = model.encode(query)\n",
    "xq.shape"
   ]
  },
  {
   "cell_type": "code",
   "execution_count": null,
   "metadata": {
    "colab": {
     "base_uri": "https://localhost:8080/",
     "height": 636
    },
    "id": "AH42J4wcokDd",
    "outputId": "9a715324-9f9b-4b10-b853-5368db5df527"
   },
   "outputs": [],
   "source": [
    "!pip install pinecone"
   ]
  },
  {
   "cell_type": "code",
   "execution_count": null,
   "metadata": {
    "id": "RelW9wOAsGo5"
   },
   "outputs": [],
   "source": [
    "from pinecone import Pinecone, ServerlessSpec\n",
    "\n",
    "pinecone = Pinecone(api_key=\"YOUR_API_KEY\")"
   ]
  },
  {
   "cell_type": "code",
   "execution_count": null,
   "metadata": {
    "id": "xD_zhK8NtOYE"
   },
   "outputs": [],
   "source": [
    "import os\n",
    "def create_dlai_index_name( index_name):\n",
    "    openai_key = ''\n",
    "    from google.colab import userdata\n",
    "    openai_key = userdata.get(\"OPENAI_API_KEY\")\n",
    "    return f'{index_name}-{openai_key[-36:].lower().replace(\"_\", \"-\")}'\n"
   ]
  },
  {
   "cell_type": "code",
   "execution_count": null,
   "metadata": {
    "colab": {
     "base_uri": "https://localhost:8080/"
    },
    "id": "eimN9wkis3kM",
    "outputId": "d110e076-0dc0-4ca4-aff0-3926a8a4b763"
   },
   "outputs": [],
   "source": [
    "INDEX_NAME =  \"developer-quickstart-py\"\n",
    "#if the index name we just created in the pinecone list of indexes it will delete it\n",
    "if INDEX_NAME in [index.name for index in pinecone.list_indexes()]:\n",
    "    pinecone.delete_index(INDEX_NAME)\n",
    "print(INDEX_NAME)"
   ]
  },
  {
   "cell_type": "code",
   "execution_count": null,
   "metadata": {
    "colab": {
     "base_uri": "https://localhost:8080/"
    },
    "id": "Vi5AbRiaxW1F",
    "outputId": "58eafe93-75d8-4d0b-e7f4-ae3ad9b0b759"
   },
   "outputs": [],
   "source": [
    "pinecone.create_index(name=INDEX_NAME,\n",
    "                      dimension=model.get_sentence_embedding_dimension(),\n",
    "                      metric='cosine',\n",
    "                      spec=ServerlessSpec(cloud='aws', region='us-east-1'))\n",
    "index=pinecone.Index(INDEX_NAME)\n",
    "print(index)"
   ]
  },
  {
   "cell_type": "code",
   "execution_count": null,
   "metadata": {
    "id": "2K81rN-M1WCl"
   },
   "outputs": [],
   "source": [
    "from tqdm.auto import tqdm"
   ]
  },
  {
   "cell_type": "code",
   "execution_count": null,
   "metadata": {
    "colab": {
     "base_uri": "https://localhost:8080/",
     "height": 104,
     "referenced_widgets": [
      "593521ec110741799485835845cb755d",
      "36583788a1234bb9b04ffefc4259a925",
      "b3b4f0fff00143c3b003a92b3b3f8dab",
      "9212326e868f49279b69976a8bafb568",
      "2a8c262e0a824df7882319b265270738",
      "99ead65f033e40cdb6e393eaad14faee",
      "29908e77546c4440bc28e55158e124ef",
      "0c5c8b996a4f4c109a0caab1152a811a",
      "6df081fd0b054bc48304467826a7f622",
      "b47e31da5fe5430bb2f62322ad1b9114",
      "33166d433139486cb9b24a4efa5af6aa"
     ]
    },
    "id": "cDkoqHXsylnL",
    "outputId": "1fcecc28-eca8-4774-c1ac-8e445e379c05"
   },
   "outputs": [],
   "source": [
    "batch_size = 200\n",
    "vector_limit = 10000\n",
    "\n",
    "questions = question[:vector_limit]\n",
    "\n",
    "import json\n",
    "\n",
    "for i in tqdm(range(0, len(questions), batch_size)):\n",
    "    # find end of batch\n",
    "    i_end = min(i+batch_size, len(questions))\n",
    "    # create IDs batch\n",
    "    ids = [str(x) for x in range(i, i_end)]\n",
    "    # create metadata batch\n",
    "    metadatas = [{'text': text} for text in questions[i:i_end]]\n",
    "    # create embeddings\n",
    "    xc = model.encode(questions[i:i_end])\n",
    "    # create records list for upsert\n",
    "    records = zip(ids, xc, metadatas)\n",
    "    # upsert to Pinecone\n",
    "    index.upsert(vectors=records)"
   ]
  },
  {
   "cell_type": "markdown",
   "metadata": {
    "id": "nzbiKS15xtAY"
   },
   "source": []
  },
  {
   "cell_type": "code",
   "execution_count": null,
   "metadata": {
    "colab": {
     "base_uri": "https://localhost:8080/"
    },
    "id": "ZZdU4nJw1wFC",
    "outputId": "b039493b-564f-4edb-cd6c-75718962f902"
   },
   "outputs": [],
   "source": [
    "index.describe_index_stats()"
   ]
  },
  {
   "cell_type": "code",
   "execution_count": null,
   "metadata": {
    "id": "aUsN5ISu1-J1"
   },
   "outputs": [],
   "source": [
    "# small helper function so we can repeat queries later\n",
    "def run_query(query):\n",
    "  embedding = model.encode(query).tolist()\n",
    "  results = index.query(top_k=10, vector=embedding, include_metadata=True, include_values=False)\n",
    "  for result in results['matches']:\n",
    "    print(f\"{round(result['score'], 2)}: {result['metadata']['text']}\")"
   ]
  },
  {
   "cell_type": "code",
   "execution_count": null,
   "metadata": {
    "colab": {
     "base_uri": "https://localhost:8080/"
    },
    "id": "qRAL2lqE3BrS",
    "outputId": "746cc552-7714-4f8e-806a-5f070a255ae4"
   },
   "outputs": [],
   "source": [
    "run_query('which city has the highest population in the world?')"
   ]
  },
  {
   "cell_type": "code",
   "execution_count": null,
   "metadata": {
    "colab": {
     "base_uri": "https://localhost:8080/"
    },
    "id": "btKK3HuQ3Cl4",
    "outputId": "644743b0-bd74-4994-d564-0664711266d3"
   },
   "outputs": [],
   "source": [
    "run_query('how do i make chocolate cake?')"
   ]
  },
  {
   "cell_type": "code",
   "execution_count": null,
   "metadata": {
    "id": "29PRDjq03NiM"
   },
   "outputs": [],
   "source": []
  }
 ],
 "metadata": {
  "accelerator": "GPU",
  "colab": {
   "gpuType": "T4",
   "provenance": []
  },
  "kernelspec": {
   "display_name": "Python 3",
   "name": "python3"
  },
  "language_info": {
   "name": "python"
  }
 },
 "nbformat": 4,
 "nbformat_minor": 0
}
